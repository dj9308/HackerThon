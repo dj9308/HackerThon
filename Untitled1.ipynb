{
 "cells": [
  {
   "cell_type": "code",
   "execution_count": 2,
   "metadata": {},
   "outputs": [
    {
     "name": "stdout",
     "output_type": "stream",
     "text": [
      "당첨번호를 확인할 회차 번호를 입력해주세요 : 881\n",
      "{'totSellamnt': 84495552000, 'returnValue': 'success', 'drwNoDate': '2019-10-19', 'firstWinamnt': 2503212282, 'drwtNo6': 32, 'drwtNo4': 26, 'firstPrzwnerCo': 8, 'drwtNo5': 27, 'bnusNo': 9, 'firstAccumamnt': 20025698256, 'drwNo': 881, 'drwtNo2': 18, 'drwtNo3': 20, 'drwtNo1': 4}\n"
     ]
    }
   ],
   "source": [
    "import requests \n",
    " \n",
    "URL_GetLottoNumber = \"https://www.dhlottery.co.kr/common.do?method=getLottoNumber&drwNo=\" # 현재 동행로또 주소\n",
    " \n",
    "sDrwNum = input(\"당첨번호를 확인할 회차 번호를 입력해주세요 : \")\n",
    "resp = requests.get(URL_GetLottoNumber + sDrwNum)\n",
    " \n",
    "jsResult = resp.json()\n",
    " \n",
    "if jsResult[\"returnValue\"] == \"success\":\n",
    "    print(jsResult)\n",
    "else:\n",
    "    print(\"존재하지 않는 회차 번호입니다. (입력됨 : %s)\" % (sDrwNum))"
   ]
  },
  {
   "cell_type": "code",
   "execution_count": 4,
   "metadata": {},
   "outputs": [
    {
     "name": "stdout",
     "output_type": "stream",
     "text": [
      "[26, 45, 2, 6, 33, 34]\n"
     ]
    }
   ],
   "source": [
    "import random\n",
    "sample = list(range(1,46))\n",
    "s = random.sample(sample, 6)\n",
    "print(s)"
   ]
  },
  {
   "cell_type": "code",
   "execution_count": 6,
   "metadata": {},
   "outputs": [],
   "source": [
    "words = 'hi everyone im fefe'"
   ]
  },
  {
   "cell_type": "code",
   "execution_count": 10,
   "metadata": {},
   "outputs": [
    {
     "data": {
      "text/plain": [
       "'Hi Everyone Im Fefe'"
      ]
     },
     "execution_count": 10,
     "metadata": {},
     "output_type": "execute_result"
    }
   ],
   "source": [
    "words.capitalize()\n",
    "words.title()"
   ]
  },
  {
   "cell_type": "code",
   "execution_count": 12,
   "metadata": {},
   "outputs": [
    {
     "data": {
      "text/plain": [
       "'HI EVERYONE IM FEFE'"
      ]
     },
     "execution_count": 12,
     "metadata": {},
     "output_type": "execute_result"
    }
   ],
   "source": [
    "words.upper()"
   ]
  },
  {
   "cell_type": "code",
   "execution_count": 14,
   "metadata": {},
   "outputs": [
    {
     "data": {
      "text/plain": [
       "'HI EVERYONE IM FEFE'"
      ]
     },
     "execution_count": 14,
     "metadata": {},
     "output_type": "execute_result"
    }
   ],
   "source": [
    "words.swapcase()"
   ]
  },
  {
   "cell_type": "code",
   "execution_count": 17,
   "metadata": {
    "scrolled": true
   },
   "outputs": [
    {
     "data": {
      "text/plain": [
       "'hihello'"
      ]
     },
     "execution_count": 17,
     "metadata": {},
     "output_type": "execute_result"
    }
   ],
   "source": [
    "words = ['hi','hello']\n",
    "''.join(words)"
   ]
  },
  {
   "cell_type": "code",
   "execution_count": 19,
   "metadata": {},
   "outputs": [
    {
     "data": {
      "text/plain": [
       "'yey'"
      ]
     },
     "execution_count": 19,
     "metadata": {},
     "output_type": "execute_result"
    }
   ],
   "source": [
    "'yay'.replace('a','e')"
   ]
  },
  {
   "cell_type": "code",
   "execution_count": 23,
   "metadata": {},
   "outputs": [
    {
     "data": {
      "text/plain": [
       "3"
      ]
     },
     "execution_count": 23,
     "metadata": {},
     "output_type": "execute_result"
    }
   ],
   "source": [
    "'apple'.find('l')"
   ]
  },
  {
   "cell_type": "code",
   "execution_count": 25,
   "metadata": {},
   "outputs": [
    {
     "data": {
      "text/plain": [
       "['a', 'b', 'c']"
      ]
     },
     "execution_count": 25,
     "metadata": {},
     "output_type": "execute_result"
    }
   ],
   "source": [
    "'a_b_c'.split('_')"
   ]
  },
  {
   "cell_type": "code",
   "execution_count": 27,
   "metadata": {},
   "outputs": [
    {
     "name": "stdout",
     "output_type": "stream",
     "text": [
      "['starbucsk', 'coffeebean', 'hollys']\n"
     ]
    }
   ],
   "source": [
    "caffe = ['starbucsk','coffeebean','hollys']\n",
    "print(caffe)"
   ]
  },
  {
   "cell_type": "code",
   "execution_count": 29,
   "metadata": {},
   "outputs": [],
   "source": [
    "caffe.append('tomandtoes')"
   ]
  },
  {
   "cell_type": "code",
   "execution_count": 31,
   "metadata": {},
   "outputs": [
    {
     "name": "stdout",
     "output_type": "stream",
     "text": [
      "['starbucsk', 'coffeebean', 'hollys', 'tomandtoes', 'tomandtoes']\n"
     ]
    }
   ],
   "source": [
    "print(caffe)"
   ]
  },
  {
   "cell_type": "code",
   "execution_count": 32,
   "metadata": {},
   "outputs": [],
   "source": [
    "caffe.extend(['droptop','빽다방'])"
   ]
  },
  {
   "cell_type": "code",
   "execution_count": 34,
   "metadata": {},
   "outputs": [
    {
     "name": "stdout",
     "output_type": "stream",
     "text": [
      "['starbucsk', 'coffeebean', 'hollys', 'tomandtoes', 'tomandtoes', 'droptop', '빽다방']\n"
     ]
    }
   ],
   "source": [
    "print(caffe)"
   ]
  },
  {
   "cell_type": "code",
   "execution_count": 37,
   "metadata": {},
   "outputs": [
    {
     "name": "stdout",
     "output_type": "stream",
     "text": [
      "['hello', 'hello', 'hello', 'starbucsk', 'coffeebean', 'hollys', 'tomandtoes', 'tomandtoes', 'droptop', '빽다방']\n"
     ]
    }
   ],
   "source": [
    "caffe.insert(0,'hello')\n",
    "print(caffe)"
   ]
  },
  {
   "cell_type": "code",
   "execution_count": 39,
   "metadata": {},
   "outputs": [],
   "source": [
    "caffe.insert(2,'hi')"
   ]
  },
  {
   "cell_type": "code",
   "execution_count": 41,
   "metadata": {},
   "outputs": [
    {
     "name": "stdout",
     "output_type": "stream",
     "text": [
      "['hello', 'hello', 'hi', 'hi', 'hello', 'starbucsk', 'coffeebean', 'hollys', 'tomandtoes', 'tomandtoes', 'droptop', '빽다방']\n"
     ]
    }
   ],
   "source": [
    "print(caffe)"
   ]
  },
  {
   "cell_type": "code",
   "execution_count": 47,
   "metadata": {},
   "outputs": [
    {
     "name": "stdout",
     "output_type": "stream",
     "text": [
      "1\n"
     ]
    }
   ],
   "source": [
    "numbers = [1,2,3,4,5,6]\n",
    "print(numbers.pop(0))\n"
   ]
  },
  {
   "cell_type": "code",
   "execution_count": 49,
   "metadata": {},
   "outputs": [
    {
     "data": {
      "text/plain": [
       "2"
      ]
     },
     "execution_count": 49,
     "metadata": {},
     "output_type": "execute_result"
    }
   ],
   "source": [
    "numbers.index(4)"
   ]
  },
  {
   "cell_type": "code",
   "execution_count": 51,
   "metadata": {},
   "outputs": [
    {
     "data": {
      "text/plain": [
       "3"
      ]
     },
     "execution_count": 51,
     "metadata": {},
     "output_type": "execute_result"
    }
   ],
   "source": [
    "numbers = [1,2,3,1,1,2,3]\n",
    "numbers.count(1)"
   ]
  },
  {
   "cell_type": "code",
   "execution_count": 53,
   "metadata": {},
   "outputs": [
    {
     "data": {
      "text/plain": [
       "0"
      ]
     },
     "execution_count": 53,
     "metadata": {},
     "output_type": "execute_result"
    }
   ],
   "source": [
    "numbers.count(5)"
   ]
  },
  {
   "cell_type": "code",
   "execution_count": 55,
   "metadata": {},
   "outputs": [
    {
     "name": "stdout",
     "output_type": "stream",
     "text": [
      "[19, 39, 4, 2, 10, 45]\n"
     ]
    }
   ],
   "source": [
    "import random\n",
    "lotto = random.sample(range(1,46),6)\n",
    "print(lotto)"
   ]
  },
  {
   "cell_type": "code",
   "execution_count": 58,
   "metadata": {},
   "outputs": [
    {
     "name": "stdout",
     "output_type": "stream",
     "text": [
      "[2, 4, 10, 19, 39, 45]\n"
     ]
    }
   ],
   "source": [
    "lotto.sort()\n",
    "print(lotto)"
   ]
  },
  {
   "cell_type": "code",
   "execution_count": 59,
   "metadata": {},
   "outputs": [
    {
     "name": "stdout",
     "output_type": "stream",
     "text": [
      "[45, 39, 19, 10, 4, 2]\n"
     ]
    }
   ],
   "source": [
    "lotto.sort(reverse=True)\n",
    "print(lotto)"
   ]
  }
 ],
 "metadata": {
  "kernelspec": {
   "display_name": "Python 3",
   "language": "python",
   "name": "python3"
  },
  "language_info": {
   "codemirror_mode": {
    "name": "ipython",
    "version": 3
   },
   "file_extension": ".py",
   "mimetype": "text/x-python",
   "name": "python",
   "nbconvert_exporter": "python",
   "pygments_lexer": "ipython3",
   "version": "3.7.4"
  }
 },
 "nbformat": 4,
 "nbformat_minor": 2
}
